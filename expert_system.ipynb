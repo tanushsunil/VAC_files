{
  "nbformat": 4,
  "nbformat_minor": 0,
  "metadata": {
    "colab": {
      "provenance": [],
      "authorship_tag": "ABX9TyNMo1asxpjT0YRw+zeN5uvZ",
      "include_colab_link": true
    },
    "kernelspec": {
      "name": "python3",
      "display_name": "Python 3"
    },
    "language_info": {
      "name": "python"
    }
  },
  "cells": [
    {
      "cell_type": "markdown",
      "metadata": {
        "id": "view-in-github",
        "colab_type": "text"
      },
      "source": [
        "<a href=\"https://colab.research.google.com/github/tanushsunil/Form/blob/main/expert_system.ipynb\" target=\"_parent\"><img src=\"https://colab.research.google.com/assets/colab-badge.svg\" alt=\"Open In Colab\"/></a>"
      ]
    },
    {
      "cell_type": "code",
      "execution_count": null,
      "metadata": {
        "id": "IpVKXmWzAqUr"
      },
      "outputs": [],
      "source": [
        "print(\"------------------------------------------------------------------\")\n",
        "print(\"Let's find out which type of cuisine will suit you today!\")\n",
        "print(\"------------------------------------------------------------------\")\n",
        "\n",
        "spicy = input(\"Would you like it spicy y/n\")\n",
        "\n",
        "if spicy == 'n':\n",
        "   netural = 'y'\n",
        "elif spicy == 'y':\n",
        "   neutral = \"n\"\n",
        "    \n",
        "bread = input(\"What about bread & noodle based food? y/n\")\n",
        "\n",
        "if bread == 'n':\n",
        "    rice = 'y'\n",
        "elif bread == 'y':\n",
        "    rice = 'n'\n",
        "    \n",
        "print('so you have selected these: ')\n",
        "print(\"----------------------------------\")\n",
        "print(\"Spicy = \", spicy)\n",
        "print(\"Neutral = \", netural)\n",
        "print(\"Rice-based = \",rice)\n",
        "print(\"Bread & noodle based = \", bread)\n",
        "print(\"----------------------------------\")\n",
        "\n",
        "if spicy == 'y' and bread == 'y':\n",
        "    print('So I would recommend you to go with Italian Cuisine!')\n",
        "elif spicy == 'y ' and rice == 'y':\n",
        "    print(\"So I would recommend you to go with North Indian Cuisine!\")\n",
        "elif neutral == 'y' and bread == 'y':\n",
        "    print(\"So I would recommend you to choose Chinese Cuisine!\")\n",
        "elif neutral == 'y' and rice == 'y':\n",
        "    print(\"Close your eyes and choose South Indian Cuisine!\")\n"
      ]
    }
  ]
}